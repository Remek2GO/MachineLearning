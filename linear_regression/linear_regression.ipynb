{
 "cells": [
  {
   "cell_type": "markdown",
   "metadata": {},
   "source": [
    "Import bibliotek"
   ]
  },
  {
   "cell_type": "code",
   "execution_count": 1,
   "metadata": {},
   "outputs": [],
   "source": [
    "import csv\n",
    "import math\n",
    "import numpy as np\n",
    "from matplotlib import pyplot as plt\n"
   ]
  },
  {
   "cell_type": "markdown",
   "metadata": {},
   "source": [
    "Improt pliku measurements.csv"
   ]
  },
  {
   "cell_type": "code",
   "execution_count": 95,
   "metadata": {},
   "outputs": [],
   "source": [
    "with open('./measurements.csv', 'r') as f:\n",
    "    csvreader = csv.reader(f, delimiter=',')\n",
    "    data = [row for row in csvreader]\n",
    "    data = np.array(data, dtype=np.float32)\n",
    "\n",
    "x = data[:, 0]\n",
    "y = data[:, 1]"
   ]
  },
  {
   "cell_type": "code",
   "execution_count": 8,
   "metadata": {},
   "outputs": [
    {
     "name": "stdout",
     "output_type": "stream",
     "text": [
      "theta_0: 0.006487626295089722, theta_1: 0.3153841448974609, J cost: 0.6391740798950195\n"
     ]
    },
    {
     "data": {
      "text/plain": [
       "[<matplotlib.lines.Line2D at 0x222a8abcd00>]"
      ]
     },
     "execution_count": 8,
     "metadata": {},
     "output_type": "execute_result"
    },
    {
     "data": {
      "image/png": "[encoded data removed]",
      "text/plain": [
       "<Figure size 640x480 with 1 Axes>"
      ]
     },
     "metadata": {},
     "output_type": "display_data"
    }
   ],
   "source": [
    "def h_fun(x, theta_0, theta_1):\n",
    "    return theta_0 + theta_1*x\n",
    "\n",
    "def calculate_cost(x , y, theta_0, theta_1):\n",
    "    m = len(x)\n",
    "    h = h_fun(x, theta_0, theta_1)\n",
    "    return (1/(2*m)) * np.sum(np.square(h - y))\n",
    "\n",
    "eps = 1e-5\n",
    "alpha = 0.001\n",
    "theta_0 = 0\n",
    "theta_1 = 0\n",
    "m = len(x)\n",
    "cost_prev = 1000\n",
    "cost = calculate_cost(x, y, theta_0, theta_1)\n",
    "\n",
    "while cost_prev - cost > eps:\n",
    "    cost_prev = cost\n",
    "    h = h_fun(x, theta_0, theta_1)\n",
    "    theta_0 -= alpha * (1/m) * np.sum(h - y)\n",
    "    theta_1 -= alpha * (1/m) * np.sum((h - y)*x)\n",
    "    cost = calculate_cost(x, y, theta_0, theta_1)\n",
    "\n",
    "print(f'theta_0: {theta_0}, theta_1: {theta_1}, J cost: {cost}')\n",
    "plt.plot(x, h_fun(x, theta_0, theta_1), 'r')\n",
    "plt.plot(x, y, 'o')"
   ]
  },
  {
   "cell_type": "markdown",
   "metadata": {},
   "source": [
    "Regresja liniowa wielu zmiennych"
   ]
  },
  {
   "cell_type": "code",
   "execution_count": 6,
   "metadata": {},
   "outputs": [
    {
     "name": "stdout",
     "output_type": "stream",
     "text": [
      "koszt nieruchomosi o pow. 1300 z l. pok. 4 oszacowany na 296177.8095261862\n"
     ]
    }
   ],
   "source": [
    "with open('./housing.txt', 'r') as f:\n",
    "    csvreader = csv.reader(f, delimiter=',')\n",
    "    data2 = [row for row in csvreader]\n",
    "    data2 = np.array(data2, dtype=np.float32)\n",
    "    y = data2[:, 2]\n",
    "    y.shape = [1, y.shape[0]]\n",
    "    X = data2[:, 0:2]\n",
    "    X = np.concatenate([np.ones((X.shape[0], 1)), X], axis=1).T\n",
    "\n",
    "y_scale = y.max()\n",
    "y = y / y_scale\n",
    "\n",
    "X_scale = X.max(axis=1)\n",
    "X_scale.shape = [-1, 1]\n",
    "X = X / X_scale\n",
    "\n",
    "def h_fun(X, theta):\n",
    "    return theta.T @ X\n",
    "\n",
    "def calculate_cost(X, y, theta):\n",
    "    m = X.shape[1]\n",
    "    h = h_fun(X, theta)\n",
    "    return (1/(2*m)) * np.sum(np.power(h - y, 2))\n",
    "\n",
    "eps = 1e-5\n",
    "alpha = 0.001\n",
    "theta = np.array([[0],[0],[0]])\n",
    "m = X.shape[1]\n",
    "cost_prev = 1000\n",
    "\n",
    "while True:\n",
    "    cost = calculate_cost(X, y, theta)\n",
    "    h = h_fun(X,theta)\n",
    "    h_y_diff = (h_fun(X, theta) - y)\n",
    "    gradient = h_y_diff @ X.T\n",
    "    theta = theta - alpha*gradient.T / m\n",
    "    if cost_prev - cost <= eps: \n",
    "        break\n",
    "    cost_prev = cost\n",
    "\n",
    "example = np.array([[1], [1300], [4]])\n",
    "h_example = theta.T @ (example/X_scale) * y_scale\n",
    "print(f'koszt nieruchomosi o pow. {example[1][0]} z l. pok. {example[2][0]} oszacowany na {h_example[0][0]}')"
   ]
  },
  {
   "cell_type": "markdown",
   "metadata": {},
   "source": [
    "Regresja nieliniowa"
   ]
  },
  {
   "cell_type": "code",
   "execution_count": 68,
   "metadata": {},
   "outputs": [
    {
     "name": "stdout",
     "output_type": "stream",
     "text": [
      "[[ 0.02528659]\n",
      " [ 0.77921904]\n",
      " [-0.49718106]\n",
      " [ 0.65075701]]\n"
     ]
    }
   ],
   "source": [
    "with open('./measurements.csv', 'r') as f:\n",
    "    csvreader = csv.reader(f, delimiter=',')\n",
    "    data = [row for row in csvreader]\n",
    "    data = np.array(data, dtype=np.float32)\n",
    "\n",
    "x = data[:, 0]\n",
    "y = data[:, 1]\n",
    "\n",
    "X = np.vstack([np.ones(x.shape), x, x**2, x**3])\n",
    "\n",
    "X_scale = X.max(axis=1)\n",
    "X_scale.shape = [-1, 1]\n",
    "X = X / X_scale\n",
    " \n",
    "y.shape = [1, -1]\n",
    "y_scale = y.max()\n",
    "y = y / y_scale\n",
    "\n",
    "eps = 1e-10\n",
    "alpha = 1e-3\n",
    "theta = np.array([[0], [0], [0], [0]])\n",
    "\n",
    "def h_fun(X, theta):\n",
    "    return theta.T @ X\n",
    "\n",
    "def calculate_cost(X, y, theta):\n",
    "    m = y.size\n",
    "    h = h_fun(X, theta)\n",
    "    return (1/(2*m)) * np.sum(np.power(h - y,2))\n",
    "\n",
    "y.shape = (1, 100)\n",
    "X.shape = (4, 100)\n",
    "theta.shape = (4, 1)\n",
    "m = y.size\n",
    "cost_prev = 1000\n",
    "cost = calculate_cost(X, y, theta)\n",
    "\n",
    "while True:\n",
    "    cost = calculate_cost(X, y, theta)\n",
    "    h = h_fun(X,theta)\n",
    "    h_y_diff = (h_fun(X, theta) - y)\n",
    "    gradient = h_y_diff @ X.T\n",
    "    theta = theta - alpha*gradient.T / m\n",
    "    if cost_prev - cost <= eps: \n",
    "        break\n",
    "    cost_prev = cost\n",
    "\n",
    "print(theta)\n"
   ]
  },
  {
   "cell_type": "code",
   "execution_count": 106,
   "metadata": {},
   "outputs": [
    {
     "data": {
      "text/plain": [
       "[<matplotlib.lines.Line2D at 0x2d7d6791880>]"
      ]
     },
     "execution_count": 106,
     "metadata": {},
     "output_type": "execute_result"
    },
    {
     "data": {
      "image/png": "[encoded data removed]",
      "text/plain": [
       "<Figure size 640x480 with 1 Axes>"
      ]
     },
     "metadata": {},
     "output_type": "display_data"
    }
   ],
   "source": [
    "plt.plot(x, (h_fun(X,theta)*y_scale).T, '-r')\n",
    "plt.plot(x, y, 'o')"
   ]
  }
 ],
 "metadata": {
  "kernelspec": {
   "display_name": "Python 3",
   "language": "python",
   "name": "python3"
  },
  "language_info": {
   "codemirror_mode": {
    "name": "ipython",
    "version": 3
   },
   "file_extension": ".py",
   "mimetype": "text/x-python",
   "name": "python",
   "nbconvert_exporter": "python",
   "pygments_lexer": "ipython3",
   "version": "3.8.0"
  }
 },
 "nbformat": 4,
 "nbformat_minor": 2
}
